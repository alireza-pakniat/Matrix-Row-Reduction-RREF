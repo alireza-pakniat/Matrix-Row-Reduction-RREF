{
 "cells": [
  {
   "cell_type": "code",
   "execution_count": 2,
   "id": "95ef2216-296e-43bc-ad4c-94c81c3be84e",
   "metadata": {},
   "outputs": [],
   "source": [
    "import numpy as np"
   ]
  },
  {
   "cell_type": "code",
   "execution_count": 3,
   "id": "7477da9f-b51b-44f6-bf7b-538ffdc3e977",
   "metadata": {},
   "outputs": [],
   "source": [
    "def interchange(matrix :np.array, first_row_index :int, second_row_index :int) -> np.array:\n",
    "    # in this function we just change two rows of an array(when others elemntary under a leading entry is zero we use this function) returns an np array\n",
    "    matrix[[first_row_index,second_row_index]] = matrix[[second_row_index,first_row_index]]\n",
    "    return matrix\n"
   ]
  },
  {
   "cell_type": "code",
   "execution_count": 4,
   "id": "73cfa26d-fb4b-4fc2-92eb-5cb29b6a4da9",
   "metadata": {},
   "outputs": [],
   "source": [
    "def scale(matrix :np.array, row_index :int, scalar :float) -> np.array:\n",
    "    # (this function is usually used when the pivot is not 1) returns an np array\n",
    "    matrix[row_index] = matrix[row_index] * scalar\n",
    "    return matrix\n"
   ]
  },
  {
   "cell_type": "code",
   "execution_count": 5,
   "id": "1acda1e5-ca30-4516-80a2-ece389892518",
   "metadata": {},
   "outputs": [],
   "source": [
    "def replace(matrix :np.array, source_row :int, target_row :int, scalar :float) -> np.array:\n",
    "    # in this fucntion we add an scaller * source to target row(usually use to convert all the elments under a pivot zero)\n",
    "    matrix[target_row] = matrix[target_row] + matrix[source_row] * scalar\n",
    "    return matrix"
   ]
  },
  {
   "cell_type": "code",
   "execution_count": 6,
   "id": "5ee8e841-42e2-487d-b996-b370da37b09c",
   "metadata": {},
   "outputs": [],
   "source": [
    "def row_reduced_echelon_form(matrix : np.array) -> np.array:\n",
    "    \n",
    "    # finding the rows and columns of the augumented matrix given using numpy method(shape)\n",
    "    num_rows, num_cols = matrix.shape \n",
    "    \n",
    "    lead = 0  # this variable is for tracking the leading entry column \n",
    "\n",
    "    for r in range(num_rows):\n",
    "\n",
    "        # this is when we reached the last column and we finish \n",
    "        if lead >= num_cols:\n",
    "            break\n",
    "\n",
    "        pivot_row = r\n",
    "\n",
    "        # In this while loop I tried to find the pivot row with the largest leading entry\n",
    "        while matrix[pivot_row, lead] == 0:\n",
    "            pivot_row += 1\n",
    "            if pivot_row == num_rows:\n",
    "                # If all of the remaining entries in the column are zero we move to the next column\n",
    "                pivot_row = r\n",
    "                lead += 1\n",
    "\n",
    "                # If we have reached the last column we dont need any other operation\n",
    "                if num_cols == lead:\n",
    "                    return matrix\n",
    "\n",
    "        # we swap the pivot row with the corrent row using enterchange function\n",
    "        interchange(matrix, pivot_row, r)\n",
    "\n",
    "        # Scale the pivot row leading entry to 1 using scale function \n",
    "        scale(matrix, r, 1 / matrix[r, lead])\n",
    "\n",
    "        # using row operations to eliminate all other none zero entries in the current column(make all of our other entries zero)\n",
    "        for i in range(num_rows):\n",
    "            if i != r:\n",
    "                replace(matrix, r, i, -matrix[i, lead])\n",
    "\n",
    "        #moving to next column\n",
    "        lead += 1\n",
    "        \n",
    "    return matrix\n",
    "\n",
    "            "
   ]
  },
  {
   "cell_type": "code",
   "execution_count": 11,
   "id": "3b93a6b0-0ec4-4135-b591-09c64a9a3044",
   "metadata": {},
   "outputs": [
    {
     "name": "stdout",
     "output_type": "stream",
     "text": [
      "[[ 1.   0.   1.5]\n",
      " [ 0.   1.  -0.5]\n",
      " [ 0.   0.   0. ]]\n"
     ]
    }
   ],
   "source": [
    "augmented_matrix = np.array([\n",
    "     [1 , -3 , 3],\n",
    "     [3 , 5 , 2],\n",
    "     [-1 , 7 , -5]\n",
    "],dtype=np.float32)\n",
    "print(row_reduced_echelon_form(augmented_matrix))"
   ]
  },
  {
   "cell_type": "code",
   "execution_count": null,
   "id": "f17c24ac-1e61-4096-8103-74db63de00cd",
   "metadata": {},
   "outputs": [],
   "source": []
  }
 ],
 "metadata": {
  "kernelspec": {
   "display_name": "Python 3 (ipykernel)",
   "language": "python",
   "name": "python3"
  },
  "language_info": {
   "codemirror_mode": {
    "name": "ipython",
    "version": 3
   },
   "file_extension": ".py",
   "mimetype": "text/x-python",
   "name": "python",
   "nbconvert_exporter": "python",
   "pygments_lexer": "ipython3",
   "version": "3.10.12"
  }
 },
 "nbformat": 4,
 "nbformat_minor": 5
}
